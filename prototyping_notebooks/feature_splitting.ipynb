{
 "cells": [
  {
   "cell_type": "markdown",
   "id": "99b8374f-bb44-4f24-bf5d-535a66a4b1b5",
   "metadata": {},
   "source": [
    "# Dataset generation\n",
    "\n",
    "Building a baby dataset of features to verify our models work\n",
    "\n",
    "* 100 samples\n",
    "* 5 SNR ratios\n",
    "* 500 total features"
   ]
  },
  {
   "cell_type": "code",
   "execution_count": 1,
   "id": "de988ba5-45b9-4a83-beb7-2aa2bd06ef62",
   "metadata": {},
   "outputs": [],
   "source": [
    "import numpy as np\n",
    "import pandas as pd\n",
    "import os\n",
    "import librosa as lr\n",
    "from librosa import display\n",
    "%load_ext autoreload"
   ]
  },
  {
   "cell_type": "code",
   "execution_count": 2,
   "id": "cf753ca3-76bf-4a87-9fef-da7d8a0c1dc1",
   "metadata": {},
   "outputs": [],
   "source": [
    "%autoreload 2\n",
    "import featurization_funcs as featurize"
   ]
  },
  {
   "cell_type": "code",
   "execution_count": 4,
   "id": "b4ca85c2-ac6f-4747-85bf-6bfa3f063fd3",
   "metadata": {},
   "outputs": [],
   "source": [
    "RUN_NAME = '080322_10K'\n",
    "\n",
    "AUDIO_OUT = '/scratch/ci411/sonos_rirs/reverb_audio'\n",
    "FEATURES_OUT = '/scratch/ci411/sonos_rirs/features'\n",
    "\n",
    "audio_path = os.path.join(AUDIO_OUT, RUN_NAME)\n",
    "\n",
    "if not os.path.exists(audio_path):\n",
    "    os.makedirs(audio_path)\n",
    "    \n",
    "#if not os.path.exists(feature_path):\n",
    "#    os.makedirs(feature_path)"
   ]
  },
  {
   "cell_type": "code",
   "execution_count": 5,
   "id": "2bdac5fd-e447-4461-8358-9fcbe9fe58c4",
   "metadata": {},
   "outputs": [],
   "source": [
    "speech_df = pd.read_csv('./ace_speech.csv')\n",
    "rir_df = pd.read_csv('./0721_rir_df.csv')"
   ]
  },
  {
   "cell_type": "code",
   "execution_count": 6,
   "id": "53d6cced-8cc2-48fd-bea6-b8fbfd8a0b46",
   "metadata": {
    "tags": []
   },
   "outputs": [],
   "source": [
    "n_samples = 1000 #will be multiplied by number of SNRs\n",
    "sr = 16000\n",
    "snr_list = [np.infty, 30, 20, 10, 0]\n",
    "\n",
    "#audio_df = featurize.generate_rir_audio(n_samples, speech_df, rir_df, sr=sr,\\\n",
    "#                   snr_list=snr_list, out_path=audio_path)\n",
    "audio_df = pd.read_csv(os.path.join(audio_path, 'audio_df.csv'))"
   ]
  },
  {
   "cell_type": "code",
   "execution_count": 7,
   "id": "59e95bfd-f81e-4338-a257-60afdc2d9b26",
   "metadata": {},
   "outputs": [
    {
     "data": {
      "text/html": [
       "<div>\n",
       "<style scoped>\n",
       "    .dataframe tbody tr th:only-of-type {\n",
       "        vertical-align: middle;\n",
       "    }\n",
       "\n",
       "    .dataframe tbody tr th {\n",
       "        vertical-align: top;\n",
       "    }\n",
       "\n",
       "    .dataframe thead th {\n",
       "        text-align: right;\n",
       "    }\n",
       "</style>\n",
       "<table border=\"1\" class=\"dataframe\">\n",
       "  <thead>\n",
       "    <tr style=\"text-align: right;\">\n",
       "      <th></th>\n",
       "      <th>file_speech</th>\n",
       "      <th>length (s)</th>\n",
       "      <th>file_rir</th>\n",
       "      <th>room</th>\n",
       "      <th>dataset</th>\n",
       "      <th>vol</th>\n",
       "      <th>snr</th>\n",
       "      <th>clip_label</th>\n",
       "      <th>file_clip</th>\n",
       "    </tr>\n",
       "  </thead>\n",
       "  <tbody>\n",
       "    <tr>\n",
       "      <th>0</th>\n",
       "      <td>/scratch/ci411/sonos_rirs/voice_ace/Speech/F3s...</td>\n",
       "      <td>12.677007</td>\n",
       "      <td>/scratch/ci411/sonos_rirs/rirs/openair/york-gu...</td>\n",
       "      <td>york-guildhall-council-chamber</td>\n",
       "      <td>openair</td>\n",
       "      <td>1140.0</td>\n",
       "      <td>inf</td>\n",
       "      <td>clip0_snr_clean</td>\n",
       "      <td>/scratch/ci411/sonos_rirs/reverb_audio/080322_...</td>\n",
       "    </tr>\n",
       "    <tr>\n",
       "      <th>1</th>\n",
       "      <td>/scratch/ci411/sonos_rirs/voice_ace/Speech/F3s...</td>\n",
       "      <td>12.677007</td>\n",
       "      <td>/scratch/ci411/sonos_rirs/rirs/openair/york-gu...</td>\n",
       "      <td>york-guildhall-council-chamber</td>\n",
       "      <td>openair</td>\n",
       "      <td>1140.0</td>\n",
       "      <td>30.0</td>\n",
       "      <td>clip0_snr_30db</td>\n",
       "      <td>/scratch/ci411/sonos_rirs/reverb_audio/080322_...</td>\n",
       "    </tr>\n",
       "    <tr>\n",
       "      <th>2</th>\n",
       "      <td>/scratch/ci411/sonos_rirs/voice_ace/Speech/F3s...</td>\n",
       "      <td>12.677007</td>\n",
       "      <td>/scratch/ci411/sonos_rirs/rirs/openair/york-gu...</td>\n",
       "      <td>york-guildhall-council-chamber</td>\n",
       "      <td>openair</td>\n",
       "      <td>1140.0</td>\n",
       "      <td>20.0</td>\n",
       "      <td>clip0_snr_20db</td>\n",
       "      <td>/scratch/ci411/sonos_rirs/reverb_audio/080322_...</td>\n",
       "    </tr>\n",
       "    <tr>\n",
       "      <th>3</th>\n",
       "      <td>/scratch/ci411/sonos_rirs/voice_ace/Speech/F3s...</td>\n",
       "      <td>12.677007</td>\n",
       "      <td>/scratch/ci411/sonos_rirs/rirs/openair/york-gu...</td>\n",
       "      <td>york-guildhall-council-chamber</td>\n",
       "      <td>openair</td>\n",
       "      <td>1140.0</td>\n",
       "      <td>10.0</td>\n",
       "      <td>clip0_snr_10db</td>\n",
       "      <td>/scratch/ci411/sonos_rirs/reverb_audio/080322_...</td>\n",
       "    </tr>\n",
       "    <tr>\n",
       "      <th>4</th>\n",
       "      <td>/scratch/ci411/sonos_rirs/voice_ace/Speech/F3s...</td>\n",
       "      <td>12.677007</td>\n",
       "      <td>/scratch/ci411/sonos_rirs/rirs/openair/york-gu...</td>\n",
       "      <td>york-guildhall-council-chamber</td>\n",
       "      <td>openair</td>\n",
       "      <td>1140.0</td>\n",
       "      <td>0.0</td>\n",
       "      <td>clip0_snr_0db</td>\n",
       "      <td>/scratch/ci411/sonos_rirs/reverb_audio/080322_...</td>\n",
       "    </tr>\n",
       "    <tr>\n",
       "      <th>...</th>\n",
       "      <td>...</td>\n",
       "      <td>...</td>\n",
       "      <td>...</td>\n",
       "      <td>...</td>\n",
       "      <td>...</td>\n",
       "      <td>...</td>\n",
       "      <td>...</td>\n",
       "      <td>...</td>\n",
       "      <td>...</td>\n",
       "    </tr>\n",
       "    <tr>\n",
       "      <th>9995</th>\n",
       "      <td>/scratch/ci411/sonos_rirs/voice_ace/Speech/M2s...</td>\n",
       "      <td>12.922948</td>\n",
       "      <td>/scratch/ci411/sonos_rirs/rirs/ace/Single/Meet...</td>\n",
       "      <td>ace_Meeting_Room_2</td>\n",
       "      <td>ace</td>\n",
       "      <td>246.0</td>\n",
       "      <td>inf</td>\n",
       "      <td>clip1999_snr_clean</td>\n",
       "      <td>/scratch/ci411/sonos_rirs/reverb_audio/080322_...</td>\n",
       "    </tr>\n",
       "    <tr>\n",
       "      <th>9996</th>\n",
       "      <td>/scratch/ci411/sonos_rirs/voice_ace/Speech/M2s...</td>\n",
       "      <td>12.922948</td>\n",
       "      <td>/scratch/ci411/sonos_rirs/rirs/ace/Single/Meet...</td>\n",
       "      <td>ace_Meeting_Room_2</td>\n",
       "      <td>ace</td>\n",
       "      <td>246.0</td>\n",
       "      <td>30.0</td>\n",
       "      <td>clip1999_snr_30db</td>\n",
       "      <td>/scratch/ci411/sonos_rirs/reverb_audio/080322_...</td>\n",
       "    </tr>\n",
       "    <tr>\n",
       "      <th>9997</th>\n",
       "      <td>/scratch/ci411/sonos_rirs/voice_ace/Speech/M2s...</td>\n",
       "      <td>12.922948</td>\n",
       "      <td>/scratch/ci411/sonos_rirs/rirs/ace/Single/Meet...</td>\n",
       "      <td>ace_Meeting_Room_2</td>\n",
       "      <td>ace</td>\n",
       "      <td>246.0</td>\n",
       "      <td>20.0</td>\n",
       "      <td>clip1999_snr_20db</td>\n",
       "      <td>/scratch/ci411/sonos_rirs/reverb_audio/080322_...</td>\n",
       "    </tr>\n",
       "    <tr>\n",
       "      <th>9998</th>\n",
       "      <td>/scratch/ci411/sonos_rirs/voice_ace/Speech/M2s...</td>\n",
       "      <td>12.922948</td>\n",
       "      <td>/scratch/ci411/sonos_rirs/rirs/ace/Single/Meet...</td>\n",
       "      <td>ace_Meeting_Room_2</td>\n",
       "      <td>ace</td>\n",
       "      <td>246.0</td>\n",
       "      <td>10.0</td>\n",
       "      <td>clip1999_snr_10db</td>\n",
       "      <td>/scratch/ci411/sonos_rirs/reverb_audio/080322_...</td>\n",
       "    </tr>\n",
       "    <tr>\n",
       "      <th>9999</th>\n",
       "      <td>/scratch/ci411/sonos_rirs/voice_ace/Speech/M2s...</td>\n",
       "      <td>12.922948</td>\n",
       "      <td>/scratch/ci411/sonos_rirs/rirs/ace/Single/Meet...</td>\n",
       "      <td>ace_Meeting_Room_2</td>\n",
       "      <td>ace</td>\n",
       "      <td>246.0</td>\n",
       "      <td>0.0</td>\n",
       "      <td>clip1999_snr_0db</td>\n",
       "      <td>/scratch/ci411/sonos_rirs/reverb_audio/080322_...</td>\n",
       "    </tr>\n",
       "  </tbody>\n",
       "</table>\n",
       "<p>10000 rows × 9 columns</p>\n",
       "</div>"
      ],
      "text/plain": [
       "                                            file_speech  length (s)  \\\n",
       "0     /scratch/ci411/sonos_rirs/voice_ace/Speech/F3s...   12.677007   \n",
       "1     /scratch/ci411/sonos_rirs/voice_ace/Speech/F3s...   12.677007   \n",
       "2     /scratch/ci411/sonos_rirs/voice_ace/Speech/F3s...   12.677007   \n",
       "3     /scratch/ci411/sonos_rirs/voice_ace/Speech/F3s...   12.677007   \n",
       "4     /scratch/ci411/sonos_rirs/voice_ace/Speech/F3s...   12.677007   \n",
       "...                                                 ...         ...   \n",
       "9995  /scratch/ci411/sonos_rirs/voice_ace/Speech/M2s...   12.922948   \n",
       "9996  /scratch/ci411/sonos_rirs/voice_ace/Speech/M2s...   12.922948   \n",
       "9997  /scratch/ci411/sonos_rirs/voice_ace/Speech/M2s...   12.922948   \n",
       "9998  /scratch/ci411/sonos_rirs/voice_ace/Speech/M2s...   12.922948   \n",
       "9999  /scratch/ci411/sonos_rirs/voice_ace/Speech/M2s...   12.922948   \n",
       "\n",
       "                                               file_rir  \\\n",
       "0     /scratch/ci411/sonos_rirs/rirs/openair/york-gu...   \n",
       "1     /scratch/ci411/sonos_rirs/rirs/openair/york-gu...   \n",
       "2     /scratch/ci411/sonos_rirs/rirs/openair/york-gu...   \n",
       "3     /scratch/ci411/sonos_rirs/rirs/openair/york-gu...   \n",
       "4     /scratch/ci411/sonos_rirs/rirs/openair/york-gu...   \n",
       "...                                                 ...   \n",
       "9995  /scratch/ci411/sonos_rirs/rirs/ace/Single/Meet...   \n",
       "9996  /scratch/ci411/sonos_rirs/rirs/ace/Single/Meet...   \n",
       "9997  /scratch/ci411/sonos_rirs/rirs/ace/Single/Meet...   \n",
       "9998  /scratch/ci411/sonos_rirs/rirs/ace/Single/Meet...   \n",
       "9999  /scratch/ci411/sonos_rirs/rirs/ace/Single/Meet...   \n",
       "\n",
       "                                room  dataset     vol   snr  \\\n",
       "0     york-guildhall-council-chamber  openair  1140.0   inf   \n",
       "1     york-guildhall-council-chamber  openair  1140.0  30.0   \n",
       "2     york-guildhall-council-chamber  openair  1140.0  20.0   \n",
       "3     york-guildhall-council-chamber  openair  1140.0  10.0   \n",
       "4     york-guildhall-council-chamber  openair  1140.0   0.0   \n",
       "...                              ...      ...     ...   ...   \n",
       "9995              ace_Meeting_Room_2      ace   246.0   inf   \n",
       "9996              ace_Meeting_Room_2      ace   246.0  30.0   \n",
       "9997              ace_Meeting_Room_2      ace   246.0  20.0   \n",
       "9998              ace_Meeting_Room_2      ace   246.0  10.0   \n",
       "9999              ace_Meeting_Room_2      ace   246.0   0.0   \n",
       "\n",
       "              clip_label                                          file_clip  \n",
       "0        clip0_snr_clean  /scratch/ci411/sonos_rirs/reverb_audio/080322_...  \n",
       "1         clip0_snr_30db  /scratch/ci411/sonos_rirs/reverb_audio/080322_...  \n",
       "2         clip0_snr_20db  /scratch/ci411/sonos_rirs/reverb_audio/080322_...  \n",
       "3         clip0_snr_10db  /scratch/ci411/sonos_rirs/reverb_audio/080322_...  \n",
       "4          clip0_snr_0db  /scratch/ci411/sonos_rirs/reverb_audio/080322_...  \n",
       "...                  ...                                                ...  \n",
       "9995  clip1999_snr_clean  /scratch/ci411/sonos_rirs/reverb_audio/080322_...  \n",
       "9996   clip1999_snr_30db  /scratch/ci411/sonos_rirs/reverb_audio/080322_...  \n",
       "9997   clip1999_snr_20db  /scratch/ci411/sonos_rirs/reverb_audio/080322_...  \n",
       "9998   clip1999_snr_10db  /scratch/ci411/sonos_rirs/reverb_audio/080322_...  \n",
       "9999    clip1999_snr_0db  /scratch/ci411/sonos_rirs/reverb_audio/080322_...  \n",
       "\n",
       "[10000 rows x 9 columns]"
      ]
     },
     "execution_count": 7,
     "metadata": {},
     "output_type": "execute_result"
    }
   ],
   "source": [
    "audio_df"
   ]
  },
  {
   "cell_type": "code",
   "execution_count": 12,
   "id": "6c24a5a7-fdbc-4215-97a4-1a179f3d4b0a",
   "metadata": {},
   "outputs": [
    {
     "name": "stdout",
     "output_type": "stream",
     "text": [
      "phase features output shape: (20, 1997)\n",
      "continuity features output shape: (20, 1997)\n",
      "Dft output shape: (1, 1997)\n",
      "Dft output shape: (1, 1997)\n",
      "Ceptrum output shape: (1, 1997)\n",
      "Envelope output shape: (1, 1997)\n",
      "Featurization block output shape: (44, 1997)\n"
     ]
    },
    {
     "name": "stderr",
     "output_type": "stream",
     "text": [
      "/home/ci411/volume_estimation/featurization_funcs.py:159: RuntimeWarning: divide by zero encountered in log\n",
      "  log_spec_amp = np.log(np.power(np.abs(dft),2))\n",
      "/scratch/ci411/.conda/envs/s3d_env/lib/python3.8/site-packages/librosa/util/decorators.py:88: UserWarning: Trying to display complex-valued input. Showing magnitude instead.\n",
      "  return f(*args, **kwargs)\n"
     ]
    },
    {
     "data": {
      "text/plain": [
       "<matplotlib.collections.QuadMesh at 0x14e7bc3fe670>"
      ]
     },
     "execution_count": 12,
     "metadata": {},
     "output_type": "execute_result"
    },
    {
     "data": {
      "image/png": "[encoded data removed]",
      "text/plain": [
       "<Figure size 432x288 with 1 Axes>"
      ]
     },
     "metadata": {},
     "output_type": "display_data"
    }
   ],
   "source": [
    "path_audio = audio_df.iloc[0]['file_clip']\n",
    "y, sr= lr.load(path_audio, sr=sr)\n",
    "n_samples = len(y)\n",
    "'''\n",
    "feature_name = '072722_5k'\n",
    "\n",
    "gt_f = featurize.gammatone_feat(n_samples)\n",
    "dft_f = featurize.dft_feat(n_samples, out_len=gt_f.out_shape[1])\n",
    "dfts_f = featurize.dft_feat(n_samples, is_sorted=True, out_len=gt_f.out_shape[1])\n",
    "cepstrum_f = featurize.cepstrum_feat(n_samples, out_len=gt_f.out_shape[1]) \n",
    "rms_f = featurize.envelope_feat(n_samples, out_len=gt_f.out_shape[1])\n",
    "\n",
    "feats = [gt_f, dft_f, dfts_f, cepstrum_f, rms_f]\n",
    "featurizer = featurize.featurizer_block(n_samples, featurizations=feats, out_len=gt_f.out_shape[1])\n",
    "'''\n",
    "feature_name = '080122_5k_phase'\n",
    "phase_f = featurize.gammatone_featurizer(n_samples, 'phase')\n",
    "cont_f = featurize.gammatone_featurizer(n_samples, 'continuity')\n",
    "feat_len = phase_f.out_shape[1]\n",
    "dft_f = featurize.dft_feat(n_samples, out_len=feat_len)\n",
    "dfts_f = featurize.dft_feat(n_samples, is_sorted=True, out_len=feat_len)\n",
    "cepstrum_f = featurize.cepstrum_feat(n_samples, out_len=feat_len) \n",
    "rms_f = featurize.envelope_feat(n_samples, out_len=feat_len)\n",
    "\n",
    "feats = [phase_f, cont_f, dft_f, dfts_f, cepstrum_f, rms_f]\n",
    "featurizer = featurize.featurizer_block(n_samples, featurizations=feats, out_len=feat_len)\n",
    "\n",
    "feature_example = featurizer.process(y)\n",
    "lr.display.specshow(feature_example)"
   ]
  },
  {
   "cell_type": "code",
   "execution_count": null,
   "id": "b19fff45-7afc-4ae9-98be-c45555bf678c",
   "metadata": {},
   "outputs": [
    {
     "name": "stderr",
     "output_type": "stream",
     "text": [
      "155it [21:06,  8.30s/it]"
     ]
    }
   ],
   "source": [
    "feature_path = os.path.join(FEATURES_OUT, feature_name)\n",
    "if not os.path.exists(feature_path):\n",
    "    os.makedirs(feature_path)\n",
    "feat_df = featurize.process_features(audio_df, featurizer, feature_path, sr=sr)"
   ]
  },
  {
   "cell_type": "code",
   "execution_count": null,
   "id": "c10ed17f-98ba-4b15-80a1-4a85e7a4a229",
   "metadata": {},
   "outputs": [],
   "source": [
    "feat_df"
   ]
  },
  {
   "cell_type": "code",
   "execution_count": 26,
   "id": "b19e9f94-9948-467a-8c81-1e121f77917d",
   "metadata": {},
   "outputs": [
    {
     "data": {
      "text/plain": [
       "<AxesSubplot:>"
      ]
     },
     "execution_count": 26,
     "metadata": {},
     "output_type": "execute_result"
    },
    {
     "data": {
      "image/png": "[encoded data removed]",
      "text/plain": [
       "<Figure size 432x288 with 1 Axes>"
      ]
     },
     "metadata": {
      "needs_background": "light"
     },
     "output_type": "display_data"
    }
   ],
   "source": [
    "feat_df['vol'].hist(bins=30)"
   ]
  },
  {
   "cell_type": "code",
   "execution_count": 33,
   "id": "ffafe3ce-1283-444d-9927-c133e3ee5750",
   "metadata": {},
   "outputs": [
    {
     "data": {
      "text/plain": [
       "train    4171\n",
       "val       464\n",
       "test      365\n",
       "Name: split, dtype: int64"
      ]
     },
     "execution_count": 33,
     "metadata": {},
     "output_type": "execute_result"
    }
   ],
   "source": [
    "eval_rooms = ['air_office', 'ace_leture_Room_1']\n",
    "\n",
    "test_df = feat_df[feat_df['room'].isin(eval_rooms)]\n",
    "train_df = feat_df.drop(test_df.index)\n",
    "val_df = train_df.sample(frac=.1)\n",
    "train_df = train_df.drop(val_df.index)\n",
    "\n",
    "feat_df['split'] = None\n",
    "feat_df.loc[train_df.index, 'split'] = 'train'\n",
    "feat_df.loc[val_df.index, 'split'] = 'val'\n",
    "feat_df.loc[test_df.index, 'split'] = 'test'\n",
    "feat_df['split'].value_counts()"
   ]
  },
  {
   "cell_type": "code",
   "execution_count": null,
   "id": "894936bc-877d-4712-89b7-b688404a792e",
   "metadata": {},
   "outputs": [],
   "source": []
  }
 ],
 "metadata": {
  "kernelspec": {
   "display_name": "s3d_kernel",
   "language": "python",
   "name": "s3d_kernel"
  },
  "language_info": {
   "codemirror_mode": {
    "name": "ipython",
    "version": 3
   },
   "file_extension": ".py",
   "mimetype": "text/x-python",
   "name": "python",
   "nbconvert_exporter": "python",
   "pygments_lexer": "ipython3",
   "version": "3.8.13"
  }
 },
 "nbformat": 4,
 "nbformat_minor": 5
}
