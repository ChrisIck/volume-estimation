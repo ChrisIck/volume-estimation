{
 "cells": [
  {
   "cell_type": "code",
   "execution_count": 1,
   "id": "1ba3ec94-333d-46f0-b86e-1c1f68814876",
   "metadata": {},
   "outputs": [
    {
     "name": "stdout",
     "output_type": "stream",
     "text": [
      "Using device: cuda\n",
      "Using device: cuda\n",
      "\n"
     ]
    }
   ],
   "source": [
    "import numpy as np\n",
    "import pandas as pd\n",
    "import os\n",
    "from volume_estimation import modeling, evaluation"
   ]
  },
  {
   "cell_type": "code",
   "execution_count": 51,
   "id": "abff3e89-09d4-4f30-a82f-6473132110af",
   "metadata": {},
   "outputs": [],
   "source": [
    "FEATURES_DIR = '/scratch/ci411/sonos_rirs/features/'\n",
    "#adjust these variables for your own file system\n",
    "\n",
    "feature_set = '081522_20k/081522_20k_prop1'\n",
    "\n",
    "targets = ['vol']#, 'rt60']\n",
    "\n",
    "data_path = os.path.join(FEATURES_DIR, feature_set, 'feature_df.csv')\n",
    "feat_df = pd.read_csv(data_path)\n",
    "log = True\n",
    "normalize_targets = True"
   ]
  },
  {
   "cell_type": "code",
   "execution_count": 52,
   "id": "035a8305-69f1-4ab6-862f-f040245b44d5",
   "metadata": {},
   "outputs": [
    {
     "name": "stdout",
     "output_type": "stream",
     "text": [
      "1.0\n",
      "0.2486723526394655\n"
     ]
    }
   ],
   "source": [
    "if log:\n",
    "    for target in targets:\n",
    "        feat_df[target] = np.log(feat_df[target])\n",
    "\n",
    "if normalize_targets:\n",
    "    for target in targets:\n",
    "        feat_df[target] = feat_df[target]/feat_df[target].max()\n",
    "        \n",
    "for target in targets:\n",
    "    print(feat_df[target].max())\n",
    "    print(feat_df[target].min())"
   ]
  },
  {
   "cell_type": "code",
   "execution_count": 53,
   "id": "a12aaa96-1a5a-4c74-a08f-8decf04c737b",
   "metadata": {},
   "outputs": [],
   "source": [
    "smol_df = feat_df.sample(100)\n",
    "dataloader = modeling.create_dataloader(smol_df, targets=targets, batch_size=10)"
   ]
  },
  {
   "cell_type": "code",
   "execution_count": 54,
   "id": "13c8f075-67de-4c88-a2a0-8f119ae0a3c6",
   "metadata": {},
   "outputs": [
    {
     "data": {
      "text/plain": [
       "0.9845110150444752"
      ]
     },
     "execution_count": 54,
     "metadata": {},
     "output_type": "execute_result"
    }
   ],
   "source": [
    "smol_df['vol'].max()"
   ]
  },
  {
   "cell_type": "code",
   "execution_count": 55,
   "id": "43f27f4d-39df-44b8-933f-c00b07ab640f",
   "metadata": {},
   "outputs": [
    {
     "name": "stdout",
     "output_type": "stream",
     "text": [
      "Feature batch shape: torch.Size([10, 1, 30, 1997])\n",
      "Labels batch shape: torch.Size([10, 1])\n",
      "tensor([[0.4552],\n",
      "        [0.8452],\n",
      "        [0.9149],\n",
      "        [0.5460],\n",
      "        [0.5784],\n",
      "        [0.4743],\n",
      "        [0.9149],\n",
      "        [0.4310],\n",
      "        [0.4951],\n",
      "        [0.3008]])\n"
     ]
    }
   ],
   "source": [
    "features, labels = next(iter(dataloader))\n",
    "print(f\"Feature batch shape: {features.size()}\")\n",
    "print(f\"Labels batch shape: {labels.size()}\")\n",
    "\n",
    "input_height = features.size()[2]\n",
    "input_width = features.size()[3]\n",
    "\n",
    "print(labels)"
   ]
  },
  {
   "cell_type": "code",
   "execution_count": 56,
   "id": "a10a568a-8cbf-4038-808e-1ae20c78aa92",
   "metadata": {},
   "outputs": [],
   "source": [
    "n_out = len(targets)\n",
    "multi_model = modeling.Baseline_Model((input_height, input_width), n_out=n_out)"
   ]
  },
  {
   "cell_type": "code",
   "execution_count": 57,
   "id": "55aa1140-ff7b-4260-9d1e-7dd52b25c238",
   "metadata": {},
   "outputs": [
    {
     "name": "stdout",
     "output_type": "stream",
     "text": [
      "torch.Size([10, 1])\n"
     ]
    }
   ],
   "source": [
    "pred = multi_model(features)\n",
    "print(pred.size())\n"
   ]
  },
  {
   "cell_type": "code",
   "execution_count": 58,
   "id": "d199ea37-04c9-4aa3-8d84-5963405df25f",
   "metadata": {},
   "outputs": [
    {
     "name": "stdout",
     "output_type": "stream",
     "text": [
      "Using device: cuda\n"
     ]
    }
   ],
   "source": [
    "import torch\n",
    "\n",
    "from torch.nn import Conv2d, AvgPool2d, ReLU, Dropout, Flatten, Linear, Sequential, Module, MSELoss\n",
    "\n",
    "device = torch.device('cuda' if torch.cuda.is_available() else 'cpu')\n",
    "print('Using device:', device)\n",
    "\n",
    "#metrics functions\n",
    "def MSE(output, target, is_loss=False):\n",
    "    loss = torch.mean((output - target)**2, 0, keepdim=True)\n",
    "    if is_loss:\n",
    "        loss = torch.sum(loss, dim=1, keepdim=False)\n",
    "    return loss\n",
    "\n",
    "def Bias(output, target):\n",
    "    loss = torch.mean(output - target, 0, keepdim=True)\n",
    "    return loss\n",
    "\n",
    "def CovStep(output, target, output_mean, target_mean):\n",
    "    loss = torch.mean(((output - output_mean) * (target - target_mean)), 0, keepdim=True)\n",
    "    return loss\n",
    "\n",
    "def MeanAbsLogStep(output, target, log=True):\n",
    "    #convert out of log\n",
    "    if log:\n",
    "        vol_pred = 10**output\n",
    "        vol_target = 10**target\n",
    "    else:\n",
    "        vol_pred = output\n",
    "        vol_target = target\n",
    "    loss = torch.mean(torch.abs(torch.log(torch.abs(vol_pred/vol_target))), 0, keepdim=True)\n",
    "    return loss\n",
    "\n",
    "def torch_to_numpy(tensor):\n",
    "    return tensor.detach().cpu().numpy().flatten()\n",
    "\n",
    "def compute_eval_metrics(dataloader, model, log=True, verbose=False):\n",
    "    target_sum = 0\n",
    "    pred_sum = 0\n",
    "    n_steps = 0\n",
    "    if verbose:\n",
    "        print(\"Computing sums...\")\n",
    "        dataloader_iter = tqdm(dataloader)\n",
    "    else:\n",
    "        dataloader_iter = dataloader\n",
    "    for (x,y) in dataloader_iter:        \n",
    "        (x, y) = (x.to(device), y.to(device))\n",
    "        pred = model(x)\n",
    "        target_sum += y.cpu().numpy()\n",
    "        pred_sum += pred.detach().cpu().numpy()\n",
    "        n_steps += 1\n",
    "        del x, y\n",
    "    \n",
    "    torch.cuda.empty_cache()\n",
    "    \n",
    "    target_mean = torch.tensor(target_sum/n_steps).to(device)\n",
    "    pred_mean = torch.tensor(pred_sum/n_steps).to(device)\n",
    "        \n",
    "    mse = 0\n",
    "    mean_error = 0\n",
    "    cov = 0\n",
    "    abs_log_ratio = 0\n",
    "    \n",
    "    var_pred = 0 #technically var * N but gets cancelled out in Pearson calculation\n",
    "    var_target = 0 \n",
    "    \n",
    "    if verbose:\n",
    "        print(\"Computing metrics...\")\n",
    "        dataloader_iter = tqdm(dataloader)\n",
    "    else:\n",
    "        dataloader_iter = dataloader\n",
    "    for (x,y) in dataloader_iter:          \n",
    "        (x, y) = (x.to(device), y.to(device))\n",
    "        pred = model(x)\n",
    "        \n",
    "        mse += MSE(pred, y)\n",
    "        mean_error += Bias(pred, y)\n",
    "        cov += CovStep(pred, y, pred_mean, target_mean)\n",
    "        abs_log_ratio += MeanAbsLogStep(pred, y, log=log)\n",
    "        \n",
    "        var_pred += MSE(pred, pred_mean)\n",
    "        var_target += MSE(y, target_mean)\n",
    "                    \n",
    "                            \n",
    "        del x, y\n",
    "        \n",
    "    out_dict = {}\n",
    "    out_dict['mse'] = torch_to_numpy(mse / n_steps)\n",
    "    out_dict['bias'] = torch_to_numpy(mean_error / n_steps)\n",
    "    out_dict['pearson_cor'] = torch_to_numpy(cov/(torch.sqrt(var_pred) * torch.sqrt(var_target)))\n",
    "    out_dict['mean_mult'] = torch_to_numpy(torch.exp(abs_log_ratio/n_steps))\n",
    "    out_dict['var_ratio'] = torch_to_numpy(torch.sqrt(var_pred) / torch.sqrt(var_target))\n",
    "    \n",
    "    return out_dict"
   ]
  },
  {
   "cell_type": "code",
   "execution_count": 59,
   "id": "65069d8e-2f8c-4d76-b1ba-bc4ba132d65e",
   "metadata": {
    "tags": []
   },
   "outputs": [
    {
     "data": {
      "text/plain": [
       "{'mse': array([0.39782768]),\n",
       " 'bias': array([-0.60430089]),\n",
       " 'pearson_cor': array([0.08741394]),\n",
       " 'mean_mult': array([4.02069279]),\n",
       " 'var_ratio': array([0.00731228])}"
      ]
     },
     "execution_count": 59,
     "metadata": {},
     "output_type": "execute_result"
    }
   ],
   "source": [
    "multi_model.to(device)\n",
    "compute_eval_metrics(dataloader, multi_model, log=log)"
   ]
  },
  {
   "cell_type": "code",
   "execution_count": 64,
   "id": "88d63ea3-42c1-44d1-9b95-94ef53fed2e1",
   "metadata": {},
   "outputs": [],
   "source": [
    "_, model_spec, model_state = evaluation.get_model_hist_spec_state('prop5_vol_092322', '092322_vol_redo_20k')\n",
    "feature_df = pd.read_csv(model_spec['data_path'])\n",
    "log = True\n",
    "targets = ['vol']\n",
    "test_dataloader = modeling.create_dataloader(feature_df[feature_df['split']=='test'],  targets=targets)"
   ]
  },
  {
   "cell_type": "code",
   "execution_count": 65,
   "id": "1eb1873d-2e85-4e28-b17b-2c909554ab56",
   "metadata": {},
   "outputs": [],
   "source": [
    "features, labels = next(iter(test_dataloader))\n",
    "input_height = features.size()[2]\n",
    "input_width = features.size()[3]\n",
    "\n",
    "model = modeling.Baseline_Model((input_height, input_width)).to(device)\n",
    "model.load_state_dict(torch.load(model_state, map_location=device))\n",
    "test_metrics = compute_eval_metrics(test_dataloader, model, log=log)"
   ]
  },
  {
   "cell_type": "code",
   "execution_count": 66,
   "id": "30ec2afe-38fc-4af9-8a21-79eb4e46c62d",
   "metadata": {},
   "outputs": [
    {
     "data": {
      "text/plain": [
       "{'mse': array([17462136.68156819]),\n",
       " 'bias': array([-2543.55373771]),\n",
       " 'pearson_cor': array([-0.02179641]),\n",
       " 'mean_mult': array([inf]),\n",
       " 'var_ratio': array([5.12452341e-05])}"
      ]
     },
     "execution_count": 66,
     "metadata": {},
     "output_type": "execute_result"
    }
   ],
   "source": [
    "test_metrics"
   ]
  },
  {
   "cell_type": "code",
   "execution_count": 67,
   "id": "2346b43c-317a-478d-ae53-3ca13d5dd273",
   "metadata": {},
   "outputs": [
    {
     "data": {
      "text/plain": [
       "{'mse': 17462210.372850593,\n",
       " 'bias': -2543.5545107922803,\n",
       " 'pearson_cor': -0.0805756348177095,\n",
       " 'mean_mult': inf,\n",
       " 'var_ratio': 5.324040925566078e-05}"
      ]
     },
     "execution_count": 67,
     "metadata": {},
     "output_type": "execute_result"
    }
   ],
   "source": [
    "evaluation.compute_eval_metrics(test_dataloader, model, log=log)"
   ]
  },
  {
   "cell_type": "code",
   "execution_count": null,
   "id": "f58f06a0-0bcb-468e-ae2a-49d93c1c6342",
   "metadata": {},
   "outputs": [],
   "source": []
  }
 ],
 "metadata": {
  "kernelspec": {
   "display_name": "s3d_kernel",
   "language": "python",
   "name": "s3d_kernel"
  },
  "language_info": {
   "codemirror_mode": {
    "name": "ipython",
    "version": 3
   },
   "file_extension": ".py",
   "mimetype": "text/x-python",
   "name": "python",
   "nbconvert_exporter": "python",
   "pygments_lexer": "ipython3",
   "version": "3.8.13"
  }
 },
 "nbformat": 4,
 "nbformat_minor": 5
}
