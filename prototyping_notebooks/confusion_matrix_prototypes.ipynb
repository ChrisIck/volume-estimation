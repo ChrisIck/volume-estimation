{
 "cells": [
  {
   "cell_type": "code",
   "execution_count": 1,
   "id": "30c99a31-efb4-495c-8474-7202f8d6f93c",
   "metadata": {},
   "outputs": [
    {
     "name": "stdout",
     "output_type": "stream",
     "text": [
      "Using device: cpu\n",
      "\n",
      "Using device: cpu\n",
      "\n"
     ]
    }
   ],
   "source": [
    "import numpy as np\n",
    "import matplotlib.pyplot as plt\n",
    "import matplotlib.gridspec as gs\n",
    "import pandas as pd\n",
    "import json\n",
    "\n",
    "import sys\n",
    "sys.path.append(\"/home/ci411/volume_estimation/\")\n",
    "\n",
    "import model_funcs\n",
    "import torch\n",
    "import os\n",
    "from tqdm.notebook import tqdm\n",
    "\n",
    "device = torch.device('cuda' if torch.cuda.is_available() else 'cpu')\n",
    "print('Using device:', device)\n",
    "print()\n",
    "\n",
    "MODELS_DIR = '/scratch/ci411/sonos_rirs/models/'\n",
    "FEATURES_DIR = '/scratch/ci411/sonos_rirs/features/'\n",
    "\n",
    "def get_model_hist_spec_state(model_name, experiment_name):\n",
    "    hist_dir = os.path.join(MODELS_DIR, experiment_name, model_name, 'hist.json')\n",
    "    json_spec = os.path.join(MODELS_DIR, experiment_name, model_name, model_name+'_spec.json')\n",
    "    model_state = os.path.join(MODELS_DIR, experiment_name, model_name, 'model_state.pt')\n",
    "    with open(hist_dir) as f:\n",
    "        hist = json.load(f)\n",
    "\n",
    "    with open(json_spec) as f:\n",
    "        spec = json.load(f)\n",
    "        \n",
    "    return hist, spec, model_state"
   ]
  },
  {
   "cell_type": "code",
   "execution_count": 2,
   "id": "5c8a7211-0c36-490d-b6d8-7a3bc22d23d0",
   "metadata": {},
   "outputs": [],
   "source": [
    "model_name = \"080522_prop0nl\"\n",
    "model_hist, model_spec, model_state = get_model_hist_spec_state(model_name, 'early_runs')\n",
    "feature_df = pd.read_csv(model_spec['data_path'])\n",
    "\n",
    "split = 'test'\n",
    "dataloader = model_funcs.create_dataloader(feature_df[feature_df['split']==split])\n",
    "\n",
    "features, labels = next(iter(dataloader))\n",
    "input_height = features.size()[2]\n",
    "input_width = features.size()[3]\n",
    "\n",
    "model = model_funcs.Baseline_Model((input_height, input_width)).to(device)\n",
    "model.load_state_dict(torch.load(model_state, map_location=torch.device('cpu')))\n",
    "\n",
    "results = {}\n",
    "for (x, y) in dataloader:\n",
    "    (x, y) = (x.to(device), y.to(device))\n",
    "    pred = model(x)\n",
    "    true = y.item()\n",
    "    pred = pred.item()\n",
    "    \n",
    "    if true in results.keys():\n",
    "        results[true].append(pred)\n",
    "    else:\n",
    "        results[true] = [pred]\n",
    "    "
   ]
  },
  {
   "cell_type": "code",
   "execution_count": 3,
   "id": "c16304d3-76e8-46fa-961c-ea103e0c6804",
   "metadata": {},
   "outputs": [],
   "source": [
    "truths = list(results.keys())\n",
    "truths.sort()\n",
    "\n",
    "truth_list = []\n",
    "pred_list = []\n",
    "for truth in truths:\n",
    "    preds = results[truth]\n",
    "    \n",
    "    for pred in preds:\n",
    "        if pred>0:\n",
    "            truth_list.append(truth)\n",
    "            pred_list.append(np.log10(pred))"
   ]
  },
  {
   "cell_type": "code",
   "execution_count": 4,
   "id": "3d400a69-dc86-46aa-9853-cffd1a4242b4",
   "metadata": {},
   "outputs": [
    {
     "data": {
      "image/png": "[encoded data removed]",
      "text/plain": [
       "<Figure size 360x360 with 1 Axes>"
      ]
     },
     "metadata": {
      "needs_background": "light"
     },
     "output_type": "display_data"
    }
   ],
   "source": [
    "fig = plt.figure(figsize=(5,5))\n",
    "bounds = [1,4]\n",
    "bounds_pair = [bounds, bounds]\n",
    "plt.xlim(bounds)\n",
    "plt.ylim(bounds)\n",
    "plt.plot(bounds, bounds, 'r--')\n",
    "\n",
    "_ = plt.hist2d(truth_list, pred_list, bins=50, range=bounds_pair)"
   ]
  },
  {
   "cell_type": "code",
   "execution_count": 13,
   "id": "eef8cf5f-0607-477b-b075-3a7e69985da3",
   "metadata": {},
   "outputs": [
    {
     "data": {
      "image/png": "[encoded data removed]",
      "text/plain": [
       "<Figure size 576x576 with 3 Axes>"
      ]
     },
     "metadata": {
      "needs_background": "light"
     },
     "output_type": "display_data"
    }
   ],
   "source": [
    "bins= 50\n",
    "bounds = [1,4]\n",
    "bounds_pair = [bounds, bounds]\n",
    "\n",
    "# definitions for the axes\n",
    "left, width = 0.1, 0.65\n",
    "bottom, height = 0.1, 0.65\n",
    "bottom_h = left_h = left + width + 0.02\n",
    "\n",
    "rect_scatter = [left, bottom, width, height]\n",
    "rect_histx = [left, bottom_h, width, 0.2]\n",
    "rect_histy = [left_h, bottom, 0.2, height]\n",
    "\n",
    "# start with a rectangular Figure\n",
    "plt.figure(1, figsize=(8, 8))\n",
    "\n",
    "axScatter = plt.axes(rect_scatter)\n",
    "axHistx = plt.axes(rect_histx)\n",
    "axHisty = plt.axes(rect_histy)\n",
    "\n",
    "axHistx.set_xticks([])\n",
    "axHistx.set_yticks([])\n",
    "axHisty.set_xticks([])\n",
    "axHisty.set_yticks([])\n",
    "\n",
    "axHistx.set_xlim(bounds)\n",
    "axHisty.set_ylim(bounds)\n",
    "\n",
    "_, xedge, yedge, _ = axScatter.hist2d(truth_list, pred_list, bins=bins, range=bounds_pair)\n",
    "_ = axHistx.hist(truth_list, bins=bins, range=bounds)\n",
    "_ = axHisty.hist(pred_list, bins=bins, range=bounds, orientation='horizontal')"
   ]
  },
  {
   "cell_type": "code",
   "execution_count": 17,
   "id": "536fb5be-3de8-4863-8a8e-5b06b7d4812c",
   "metadata": {},
   "outputs": [],
   "source": [
    "def generate_confusion_plot(experiment_name, model_name, split='test', savepath=None, bins=50, figside=8,\\\n",
    "                            bounds=[1,5], log=False, verbose=True):\n",
    "    if verbose:\n",
    "        print(\"Loading model info {}/{}...\".format(experiment_name,model_name))\n",
    "    model_hist, model_spec, model_state = get_model_hist_spec_state(model_name, experiment_name)\n",
    "    feature_df = pd.read_csv(model_spec['data_path'])\n",
    "    \n",
    "    if verbose:\n",
    "        print(\"Building {} dataloader from {}...\".format(split, model_spec['data_path']))\n",
    "    dataloader = model_funcs.create_dataloader(feature_df[feature_df['split']==split], log=log)\n",
    "\n",
    "    features, labels = next(iter(dataloader))\n",
    "    input_height = features.size()[2]\n",
    "    input_width = features.size()[3]\n",
    "    \n",
    "    if verbose:\n",
    "        print(\"Loading model weights from {}...\".format(model_state))\n",
    "    model = model_funcs.Baseline_Model((input_height, input_width)).to(device)\n",
    "    model.load_state_dict(torch.load(model_state, map_location=torch.device('cpu')))\n",
    "\n",
    "    \n",
    "    \n",
    "    results = {}\n",
    "    if verbose:\n",
    "        print(\"Running predictions...\")\n",
    "        \n",
    "    truth_list = []\n",
    "    pred_list = []\n",
    "    for (x, y) in dataloader:\n",
    "        (x, y) = (x.to(device), y.to(device))\n",
    "        pred = model(x)\n",
    "        \n",
    "        \n",
    "        if log:\n",
    "            true = y.item()\n",
    "            pred = pred.item()\n",
    "        else:\n",
    "            true = np.log10(y.item())\n",
    "            pred = np.log10(pred.item())\n",
    "                \n",
    "        truth_list.append(true)\n",
    "        pred_list.append(pred)\n",
    "\n",
    "    if verbose:\n",
    "        print(\"Plotting {} points...\".format(len(truth_list)))\n",
    "    \n",
    "    \n",
    "    fig = plt.figure(figsize=(figside,figside))\n",
    "    bounds_pair = [bounds, bounds]\n",
    "    \n",
    "    # definitions for the axes\n",
    "    left, width = 0.1, 0.65\n",
    "    bottom, height = 0.1, 0.65\n",
    "    bottom_h = left_h = left + width + 0.02\n",
    "\n",
    "    rect_scatter = [left, bottom, width, height]\n",
    "    rect_histx = [left, bottom_h, width, 0.2]\n",
    "    rect_histy = [left_h, bottom, 0.2, height]\n",
    "    \n",
    "    axScatter = plt.axes(rect_scatter)\n",
    "    axHistx = plt.axes(rect_histx)\n",
    "    axHisty = plt.axes(rect_histy)\n",
    "    \n",
    "    axHistx.xaxis.set_label_position(\"top\")\n",
    "    axHistx.set_xlabel('Ground Truths')\n",
    "    \n",
    "    axHisty.yaxis.set_label_position(\"right\")\n",
    "    axHisty.set_ylabel('Predictions', rotation=270)\n",
    "\n",
    "    axHistx.set_xticks([])\n",
    "    axHistx.set_yticks([])\n",
    "    axHisty.set_xticks([])\n",
    "    axHisty.set_yticks([])\n",
    "    \n",
    "    axHistx.set_xlim(bounds)\n",
    "    axHisty.set_ylim(bounds)\n",
    "\n",
    "    _, xedge, yedge, _ = axScatter.hist2d(truth_list, pred_list, bins=bins, range=bounds_pair)\n",
    "    axScatter.plot(bounds, bounds, 'r--')\n",
    "\n",
    "    _ = axHistx.hist(truth_list, bins=bins, range=bounds)\n",
    "    _ = axHisty.hist(pred_list, bins=bins, range=bounds, orientation='horizontal')\n",
    "    plt.show()\n",
    "    \n",
    "    return fig"
   ]
  },
  {
   "cell_type": "code",
   "execution_count": 18,
   "id": "bce04ae4-1fc6-4664-94d6-98be892c59e4",
   "metadata": {},
   "outputs": [
    {
     "name": "stdout",
     "output_type": "stream",
     "text": [
      "Loading model info early_runs/080522_prop0nl...\n",
      "Building train dataloader from /scratch/ci411/sonos_rirs/features/080322_10k_baseline/feature_df.csv...\n",
      "Loading model weights from /scratch/ci411/sonos_rirs/models/early_runs/080522_prop0nl/model_state.pt...\n",
      "Running predictions...\n"
     ]
    },
    {
     "name": "stderr",
     "output_type": "stream",
     "text": [
      "/state/partition1/job-23405803/ipykernel_963923/710957866.py:39: RuntimeWarning: invalid value encountered in log10\n",
      "  pred = np.log10(pred.item())\n"
     ]
    },
    {
     "name": "stdout",
     "output_type": "stream",
     "text": [
      "Plotting 8433 points...\n"
     ]
    },
    {
     "data": {
      "image/png": "[encoded data removed]",
      "text/plain": [
       "<Figure size 576x576 with 3 Axes>"
      ]
     },
     "metadata": {
      "needs_background": "light"
     },
     "output_type": "display_data"
    }
   ],
   "source": [
    "fig = generate_confusion_plot('early_runs', '080522_prop0nl', split='train')"
   ]
  },
  {
   "cell_type": "code",
   "execution_count": 19,
   "id": "b9cd365d-b0a5-4300-b926-939b16062377",
   "metadata": {},
   "outputs": [
    {
     "name": "stdout",
     "output_type": "stream",
     "text": [
      "Loading model info early_runs/080522_prop4nl...\n",
      "Building train dataloader from /scratch/ci411/sonos_rirs/features/080322_10k_prop4/feature_df.csv...\n",
      "Loading model weights from /scratch/ci411/sonos_rirs/models/early_runs/080522_prop4nl/model_state.pt...\n",
      "Running predictions...\n"
     ]
    },
    {
     "name": "stderr",
     "output_type": "stream",
     "text": [
      "/state/partition1/job-23405803/ipykernel_963923/710957866.py:39: RuntimeWarning: invalid value encountered in log10\n",
      "  pred = np.log10(pred.item())\n"
     ]
    },
    {
     "name": "stdout",
     "output_type": "stream",
     "text": [
      "Plotting 8433 points...\n"
     ]
    },
    {
     "data": {
      "image/png": "[encoded data removed]",
      "text/plain": [
       "<Figure size 576x576 with 3 Axes>"
      ]
     },
     "metadata": {
      "needs_background": "light"
     },
     "output_type": "display_data"
    }
   ],
   "source": [
    "fig = generate_confusion_plot('early_runs', '080522_prop4nl', split='train')"
   ]
  },
  {
   "cell_type": "code",
   "execution_count": null,
   "id": "7fd1316a-86e1-4b52-8e92-d85a32a70366",
   "metadata": {},
   "outputs": [],
   "source": []
  }
 ],
 "metadata": {
  "kernelspec": {
   "display_name": "s3d_kernel",
   "language": "python",
   "name": "s3d_kernel"
  },
  "language_info": {
   "codemirror_mode": {
    "name": "ipython",
    "version": 3
   },
   "file_extension": ".py",
   "mimetype": "text/x-python",
   "name": "python",
   "nbconvert_exporter": "python",
   "pygments_lexer": "ipython3",
   "version": "3.8.13"
  }
 },
 "nbformat": 4,
 "nbformat_minor": 5
}
