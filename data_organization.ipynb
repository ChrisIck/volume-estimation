{
 "cells": [
  {
   "cell_type": "markdown",
   "id": "1993df92-f658-4426-a629-3016079fd787",
   "metadata": {},
   "source": [
    "# Data Management\n",
    "\n",
    "Building a dataframe from which to sample datasets and assign labels. Can point to files and pass to featurizing pipeline."
   ]
  },
  {
   "cell_type": "code",
   "execution_count": 17,
   "id": "edc0c384-fc5c-4a96-b8b6-2b170fd70f57",
   "metadata": {},
   "outputs": [],
   "source": [
    "import numpy as np\n",
    "import pandas as pd\n",
    "import librosa as lr\n",
    "import glob\n",
    "import matplotlib.pyplot as plt\n",
    "import os\n",
    "\n",
    "from IPython.display import Audio"
   ]
  },
  {
   "cell_type": "code",
   "execution_count": 43,
   "id": "56d4405e-19e6-4c38-a218-85516e5932ac",
   "metadata": {},
   "outputs": [],
   "source": [
    "#load existing datasets into separate dataframes\n",
    "\n",
    "RIR_PATH = \"/scratch/ci411/sonos_rirs/rirs\"\n",
    "\n",
    "ACE_PATH = os.path.join(RIR_PATH,'ace', 'Single/')\n",
    "\n",
    "AIR_PATH = os.path.join(RIR_PATH,'air', 'wav')\n",
    "\n",
    "OPENAIR_PATH = os.path.join(RIR_PATH,'openair')"
   ]
  },
  {
   "cell_type": "markdown",
   "id": "0a4a0063-a7b0-48ca-849b-a85963e3d9cb",
   "metadata": {},
   "source": [
    "## ACE\n",
    "\n",
    "ACE contains subfolders with different rooms with several different samples.\n",
    "\n",
    "We only care about the RIRs so we'll map the file with the room in the database entries"
   ]
  },
  {
   "cell_type": "code",
   "execution_count": 19,
   "id": "9b18fbb9-2934-4dd6-843f-9c5c0b2ab18c",
   "metadata": {},
   "outputs": [],
   "source": [
    "files = glob.glob(ACE_PATH+\"**/**/*RIR.wav\")\n",
    "ace_pairs = []\n",
    "ace_labels = []\n",
    "for file in files:\n",
    "    room = \"ace_\" + file.split('/')[7]\n",
    "    ace_pairs.append((file, room))\n",
    "    ace_labels.append(room)\n",
    "ace_labels = list(set(ace_labels))"
   ]
  },
  {
   "cell_type": "code",
   "execution_count": 30,
   "id": "eb07331d-bc5b-4737-a9b7-fcc1efc3ab20",
   "metadata": {},
   "outputs": [
    {
     "data": {
      "text/plain": [
       "14"
      ]
     },
     "execution_count": 30,
     "metadata": {},
     "output_type": "execute_result"
    }
   ],
   "source": [
    "len(ace_pairs)"
   ]
  },
  {
   "cell_type": "code",
   "execution_count": 21,
   "id": "189f1720-f5de-4ae9-b179-342eb3c97355",
   "metadata": {},
   "outputs": [],
   "source": [
    "# in m^3, pulled from Eaton et al.\n",
    "ace_vol_dict = {'ace_Office_1' : 47.3, \n",
    "                'ace_Lecture_Room_1' : 202,\n",
    "                'ace_Meeting_Room_1' : 99.6,\n",
    "                'ace_Office_2' : 48.3,\n",
    "                'ace_Meeting_Room_2' : 246,\n",
    "                'ace_Lecture_Room_2' : 370,\n",
    "                'ace_Building_Lobby' : 72.9}\n"
   ]
  },
  {
   "cell_type": "code",
   "execution_count": 27,
   "id": "d0c32810-0445-4337-b5de-6f6a4b98d82d",
   "metadata": {},
   "outputs": [],
   "source": [
    "air_labels = [\"air_booth\",\"air_lecture\", \"air_meeting\", \"air_office\"]\n",
    "air_pairs = []\n",
    "for key in air_labels:\n",
    "    search = AIR_PATH+\"/*{}*.wav\".format(key)\n",
    "    files = glob.glob(search)\n",
    "    for file in np.sort(files):\n",
    "        air_pairs.append((file, key))\n",
    "        "
   ]
  },
  {
   "cell_type": "code",
   "execution_count": 29,
   "id": "4f71e6b3-b5bf-4c4f-9ebb-1ba7308fa5aa",
   "metadata": {},
   "outputs": [
    {
     "data": {
      "text/plain": [
       "68"
      ]
     },
     "execution_count": 29,
     "metadata": {},
     "output_type": "execute_result"
    }
   ],
   "source": [
    "len(air_pairs)"
   ]
  },
  {
   "cell_type": "code",
   "execution_count": 31,
   "id": "5655d740-45f2-4150-81e0-c1aa8e258b6c",
   "metadata": {},
   "outputs": [],
   "source": [
    "#in m^3, from Jeub et al.\n",
    "\n",
    "air_vol_dict = {'air_booth' : 3.00 * 1.80 * 2.20,\n",
    "                'air_lecture' : 10.80 * 10.90 * 3.15,\n",
    "                'air_meeting' : 8.00 * 5.00 * 3.10,\n",
    "                'air_office' : 5.00 * 6.40 * 2.90}"
   ]
  },
  {
   "cell_type": "code",
   "execution_count": 32,
   "id": "3c5a942f-ac45-4532-9beb-36ba037dbbf0",
   "metadata": {},
   "outputs": [],
   "source": [
    "ace_df = pd.DataFrame(ace_pairs, columns=['file','room'])\n",
    "ace_df['dataset'] = \"ace\"\n",
    "ace_df['vol'] = ace_df['room'].apply(lambda x : ace_vol_dict[x])\n",
    "\n",
    "air_df = pd.DataFrame(air_pairs, columns=['file','room'])\n",
    "air_df['dataset'] = \"air\"\n",
    "air_df['vol'] = air_df['room'].apply(lambda x : air_vol_dict[x])"
   ]
  },
  {
   "cell_type": "code",
   "execution_count": 33,
   "id": "928a0876-5ec8-403d-bb72-2a314833bbb8",
   "metadata": {},
   "outputs": [],
   "source": [
    "ace_df.to_csv(os.path.join(ACE_PATH, 'ace_df.csv'))\n",
    "air_df.to_csv(os.path.join(AIR_PATH, 'air_df.csv'))\n"
   ]
  },
  {
   "cell_type": "code",
   "execution_count": 39,
   "id": "f656666b-bafa-4448-a337-bec95ecf06d0",
   "metadata": {},
   "outputs": [],
   "source": [
    "pra_df = pd.read_csv(os.path.join(RIR_PATH, 'pra', '0721_pra_df.csv'), index_col=0)"
   ]
  },
  {
   "cell_type": "code",
   "execution_count": 40,
   "id": "8a8c5611-56dd-4241-a249-bd1c9603b1e6",
   "metadata": {},
   "outputs": [
    {
     "data": {
      "text/html": [
       "<div>\n",
       "<style scoped>\n",
       "    .dataframe tbody tr th:only-of-type {\n",
       "        vertical-align: middle;\n",
       "    }\n",
       "\n",
       "    .dataframe tbody tr th {\n",
       "        vertical-align: top;\n",
       "    }\n",
       "\n",
       "    .dataframe thead th {\n",
       "        text-align: right;\n",
       "    }\n",
       "</style>\n",
       "<table border=\"1\" class=\"dataframe\">\n",
       "  <thead>\n",
       "    <tr style=\"text-align: right;\">\n",
       "      <th></th>\n",
       "      <th>file</th>\n",
       "      <th>room</th>\n",
       "      <th>dataset</th>\n",
       "      <th>vol</th>\n",
       "    </tr>\n",
       "  </thead>\n",
       "  <tbody>\n",
       "    <tr>\n",
       "      <th>0</th>\n",
       "      <td>/scratch/ci411/sonos_rirs/rirs/ace/Single/Buil...</td>\n",
       "      <td>ace_Building_Lobby</td>\n",
       "      <td>ace</td>\n",
       "      <td>72.900000</td>\n",
       "    </tr>\n",
       "    <tr>\n",
       "      <th>1</th>\n",
       "      <td>/scratch/ci411/sonos_rirs/rirs/ace/Single/Buil...</td>\n",
       "      <td>ace_Building_Lobby</td>\n",
       "      <td>ace</td>\n",
       "      <td>72.900000</td>\n",
       "    </tr>\n",
       "    <tr>\n",
       "      <th>2</th>\n",
       "      <td>/scratch/ci411/sonos_rirs/rirs/ace/Single/Offi...</td>\n",
       "      <td>ace_Office_1</td>\n",
       "      <td>ace</td>\n",
       "      <td>47.300000</td>\n",
       "    </tr>\n",
       "    <tr>\n",
       "      <th>3</th>\n",
       "      <td>/scratch/ci411/sonos_rirs/rirs/ace/Single/Offi...</td>\n",
       "      <td>ace_Office_1</td>\n",
       "      <td>ace</td>\n",
       "      <td>47.300000</td>\n",
       "    </tr>\n",
       "    <tr>\n",
       "      <th>4</th>\n",
       "      <td>/scratch/ci411/sonos_rirs/rirs/ace/Single/Meet...</td>\n",
       "      <td>ace_Meeting_Room_2</td>\n",
       "      <td>ace</td>\n",
       "      <td>246.000000</td>\n",
       "    </tr>\n",
       "    <tr>\n",
       "      <th>...</th>\n",
       "      <td>...</td>\n",
       "      <td>...</td>\n",
       "      <td>...</td>\n",
       "      <td>...</td>\n",
       "    </tr>\n",
       "    <tr>\n",
       "      <th>45</th>\n",
       "      <td>/scratch/ci411/sonos_rirs/pra/0721_pra/0721_pr...</td>\n",
       "      <td>0721_pra_room45</td>\n",
       "      <td>0721_pra</td>\n",
       "      <td>215.975300</td>\n",
       "    </tr>\n",
       "    <tr>\n",
       "      <th>46</th>\n",
       "      <td>/scratch/ci411/sonos_rirs/pra/0721_pra/0721_pr...</td>\n",
       "      <td>0721_pra_room46</td>\n",
       "      <td>0721_pra</td>\n",
       "      <td>149.724699</td>\n",
       "    </tr>\n",
       "    <tr>\n",
       "      <th>47</th>\n",
       "      <td>/scratch/ci411/sonos_rirs/pra/0721_pra/0721_pr...</td>\n",
       "      <td>0721_pra_room47</td>\n",
       "      <td>0721_pra</td>\n",
       "      <td>188.089546</td>\n",
       "    </tr>\n",
       "    <tr>\n",
       "      <th>48</th>\n",
       "      <td>/scratch/ci411/sonos_rirs/pra/0721_pra/0721_pr...</td>\n",
       "      <td>0721_pra_room48</td>\n",
       "      <td>0721_pra</td>\n",
       "      <td>134.675793</td>\n",
       "    </tr>\n",
       "    <tr>\n",
       "      <th>49</th>\n",
       "      <td>/scratch/ci411/sonos_rirs/pra/0721_pra/0721_pr...</td>\n",
       "      <td>0721_pra_room49</td>\n",
       "      <td>0721_pra</td>\n",
       "      <td>83.069295</td>\n",
       "    </tr>\n",
       "  </tbody>\n",
       "</table>\n",
       "<p>132 rows × 4 columns</p>\n",
       "</div>"
      ],
      "text/plain": [
       "                                                 file                room  \\\n",
       "0   /scratch/ci411/sonos_rirs/rirs/ace/Single/Buil...  ace_Building_Lobby   \n",
       "1   /scratch/ci411/sonos_rirs/rirs/ace/Single/Buil...  ace_Building_Lobby   \n",
       "2   /scratch/ci411/sonos_rirs/rirs/ace/Single/Offi...        ace_Office_1   \n",
       "3   /scratch/ci411/sonos_rirs/rirs/ace/Single/Offi...        ace_Office_1   \n",
       "4   /scratch/ci411/sonos_rirs/rirs/ace/Single/Meet...  ace_Meeting_Room_2   \n",
       "..                                                ...                 ...   \n",
       "45  /scratch/ci411/sonos_rirs/pra/0721_pra/0721_pr...     0721_pra_room45   \n",
       "46  /scratch/ci411/sonos_rirs/pra/0721_pra/0721_pr...     0721_pra_room46   \n",
       "47  /scratch/ci411/sonos_rirs/pra/0721_pra/0721_pr...     0721_pra_room47   \n",
       "48  /scratch/ci411/sonos_rirs/pra/0721_pra/0721_pr...     0721_pra_room48   \n",
       "49  /scratch/ci411/sonos_rirs/pra/0721_pra/0721_pr...     0721_pra_room49   \n",
       "\n",
       "     dataset         vol  \n",
       "0        ace   72.900000  \n",
       "1        ace   72.900000  \n",
       "2        ace   47.300000  \n",
       "3        ace   47.300000  \n",
       "4        ace  246.000000  \n",
       "..       ...         ...  \n",
       "45  0721_pra  215.975300  \n",
       "46  0721_pra  149.724699  \n",
       "47  0721_pra  188.089546  \n",
       "48  0721_pra  134.675793  \n",
       "49  0721_pra   83.069295  \n",
       "\n",
       "[132 rows x 4 columns]"
      ]
     },
     "execution_count": 40,
     "metadata": {},
     "output_type": "execute_result"
    }
   ],
   "source": [
    "rir_df = pd.concat([ace_df,air_df,pra_df])\n",
    "rir_df"
   ]
  },
  {
   "cell_type": "code",
   "execution_count": 41,
   "id": "5aa13cfb-ce01-42b3-b264-f1df8db08516",
   "metadata": {},
   "outputs": [],
   "source": [
    "rir_df.to_csv('/home/ci411/volume_estimation/0721_rir_df.csv')"
   ]
  },
  {
   "cell_type": "code",
   "execution_count": 42,
   "id": "8ca5399c-86db-4bf5-8a96-afb002a88b4a",
   "metadata": {},
   "outputs": [
    {
     "data": {
      "text/plain": [
       "<matplotlib.legend.Legend at 0x15045df0ca00>"
      ]
     },
     "execution_count": 42,
     "metadata": {},
     "output_type": "execute_result"
    },
    {
     "data": {
      "image/png": "[encoded data removed]",
      "text/plain": [
       "<Figure size 432x288 with 1 Axes>"
      ]
     },
     "metadata": {
      "needs_background": "light"
     },
     "output_type": "display_data"
    }
   ],
   "source": [
    "plt.title(\"Distribution of Volumes\")\n",
    "plt.hist([ace_df['vol'], air_df['vol'], pra_df['vol']], stacked=True, label=['ACE','AIR', 'Simulated'],bins=10)\n",
    "plt.legend()"
   ]
  },
  {
   "cell_type": "code",
   "execution_count": 73,
   "id": "2352b9cb-d235-4505-a485-5c8e07a0d5b4",
   "metadata": {},
   "outputs": [],
   "source": [
    "openair_rooms = os.listdir(OPENAIR_PATH)\n",
    "openair_rooms = np.sort(openair_rooms)[1:] #removes .DS_Store"
   ]
  },
  {
   "cell_type": "code",
   "execution_count": 74,
   "id": "584c144b-adab-4cc7-a817-425ac9c2d90f",
   "metadata": {},
   "outputs": [],
   "source": [
    "#from csv of volumes\n",
    "\n",
    "vols = [\n",
    "21000,\n",
    "1560,\n",
    "8000,\n",
    "908.23,\n",
    "2300,\n",
    "35.2,\n",
    "9000,\n",
    "2000,\n",
    "13000,\n",
    "100,\n",
    "3500,\n",
    "18000,\n",
    "2398.8,\n",
    "9000,\n",
    "6000,\n",
    "2600,\n",
    "3600,\n",
    "8000,\n",
    "4500,\n",
    "3500,\n",
    "40,\n",
    "15700,\n",
    "1140]"
   ]
  },
  {
   "cell_type": "code",
   "execution_count": 75,
   "id": "61ba0cb8-dde1-4a75-988b-4138f07297ed",
   "metadata": {},
   "outputs": [],
   "source": [
    "openair_tuples = []\n",
    "for i, room in enumerate(openair_rooms):\n",
    "    #vol_dict[room] = vols[i]\n",
    "    room_audio_search = os.path.join(OPENAIR_PATH, room, 'b-format','*.wav')\n",
    "    files = glob.glob(room_audio_search)\n",
    "    for file in files:\n",
    "        openair_tuples.append((file, room, 'openair', vols[i]))"
   ]
  },
  {
   "cell_type": "code",
   "execution_count": 76,
   "id": "45e5669f-1929-41a4-bf81-70631fe8ba42",
   "metadata": {},
   "outputs": [
    {
     "data": {
      "text/html": [
       "<div>\n",
       "<style scoped>\n",
       "    .dataframe tbody tr th:only-of-type {\n",
       "        vertical-align: middle;\n",
       "    }\n",
       "\n",
       "    .dataframe tbody tr th {\n",
       "        vertical-align: top;\n",
       "    }\n",
       "\n",
       "    .dataframe thead th {\n",
       "        text-align: right;\n",
       "    }\n",
       "</style>\n",
       "<table border=\"1\" class=\"dataframe\">\n",
       "  <thead>\n",
       "    <tr style=\"text-align: right;\">\n",
       "      <th></th>\n",
       "      <th>file</th>\n",
       "      <th>room</th>\n",
       "      <th>dataset</th>\n",
       "      <th>vol</th>\n",
       "    </tr>\n",
       "  </thead>\n",
       "  <tbody>\n",
       "    <tr>\n",
       "      <th>0</th>\n",
       "      <td>/scratch/ci411/sonos_rirs/rirs/openair/alcuin-...</td>\n",
       "      <td>alcuin-college-university-york</td>\n",
       "      <td>openair</td>\n",
       "      <td>21000.0</td>\n",
       "    </tr>\n",
       "    <tr>\n",
       "      <th>1</th>\n",
       "      <td>/scratch/ci411/sonos_rirs/rirs/openair/alcuin-...</td>\n",
       "      <td>alcuin-college-university-york</td>\n",
       "      <td>openair</td>\n",
       "      <td>21000.0</td>\n",
       "    </tr>\n",
       "    <tr>\n",
       "      <th>2</th>\n",
       "      <td>/scratch/ci411/sonos_rirs/rirs/openair/alcuin-...</td>\n",
       "      <td>alcuin-college-university-york</td>\n",
       "      <td>openair</td>\n",
       "      <td>21000.0</td>\n",
       "    </tr>\n",
       "    <tr>\n",
       "      <th>3</th>\n",
       "      <td>/scratch/ci411/sonos_rirs/rirs/openair/alcuin-...</td>\n",
       "      <td>alcuin-college-university-york</td>\n",
       "      <td>openair</td>\n",
       "      <td>21000.0</td>\n",
       "    </tr>\n",
       "    <tr>\n",
       "      <th>4</th>\n",
       "      <td>/scratch/ci411/sonos_rirs/rirs/openair/alcuin-...</td>\n",
       "      <td>alcuin-college-university-york</td>\n",
       "      <td>openair</td>\n",
       "      <td>21000.0</td>\n",
       "    </tr>\n",
       "    <tr>\n",
       "      <th>...</th>\n",
       "      <td>...</td>\n",
       "      <td>...</td>\n",
       "      <td>...</td>\n",
       "      <td>...</td>\n",
       "    </tr>\n",
       "    <tr>\n",
       "      <th>199</th>\n",
       "      <td>/scratch/ci411/sonos_rirs/rirs/openair/york-gu...</td>\n",
       "      <td>york-guildhall-council-chamber</td>\n",
       "      <td>openair</td>\n",
       "      <td>1140.0</td>\n",
       "    </tr>\n",
       "    <tr>\n",
       "      <th>200</th>\n",
       "      <td>/scratch/ci411/sonos_rirs/rirs/openair/york-gu...</td>\n",
       "      <td>york-guildhall-council-chamber</td>\n",
       "      <td>openair</td>\n",
       "      <td>1140.0</td>\n",
       "    </tr>\n",
       "    <tr>\n",
       "      <th>201</th>\n",
       "      <td>/scratch/ci411/sonos_rirs/rirs/openair/york-gu...</td>\n",
       "      <td>york-guildhall-council-chamber</td>\n",
       "      <td>openair</td>\n",
       "      <td>1140.0</td>\n",
       "    </tr>\n",
       "    <tr>\n",
       "      <th>202</th>\n",
       "      <td>/scratch/ci411/sonos_rirs/rirs/openair/york-gu...</td>\n",
       "      <td>york-guildhall-council-chamber</td>\n",
       "      <td>openair</td>\n",
       "      <td>1140.0</td>\n",
       "    </tr>\n",
       "    <tr>\n",
       "      <th>203</th>\n",
       "      <td>/scratch/ci411/sonos_rirs/rirs/openair/york-gu...</td>\n",
       "      <td>york-guildhall-council-chamber</td>\n",
       "      <td>openair</td>\n",
       "      <td>1140.0</td>\n",
       "    </tr>\n",
       "  </tbody>\n",
       "</table>\n",
       "<p>204 rows × 4 columns</p>\n",
       "</div>"
      ],
      "text/plain": [
       "                                                  file  \\\n",
       "0    /scratch/ci411/sonos_rirs/rirs/openair/alcuin-...   \n",
       "1    /scratch/ci411/sonos_rirs/rirs/openair/alcuin-...   \n",
       "2    /scratch/ci411/sonos_rirs/rirs/openair/alcuin-...   \n",
       "3    /scratch/ci411/sonos_rirs/rirs/openair/alcuin-...   \n",
       "4    /scratch/ci411/sonos_rirs/rirs/openair/alcuin-...   \n",
       "..                                                 ...   \n",
       "199  /scratch/ci411/sonos_rirs/rirs/openair/york-gu...   \n",
       "200  /scratch/ci411/sonos_rirs/rirs/openair/york-gu...   \n",
       "201  /scratch/ci411/sonos_rirs/rirs/openair/york-gu...   \n",
       "202  /scratch/ci411/sonos_rirs/rirs/openair/york-gu...   \n",
       "203  /scratch/ci411/sonos_rirs/rirs/openair/york-gu...   \n",
       "\n",
       "                               room  dataset      vol  \n",
       "0    alcuin-college-university-york  openair  21000.0  \n",
       "1    alcuin-college-university-york  openair  21000.0  \n",
       "2    alcuin-college-university-york  openair  21000.0  \n",
       "3    alcuin-college-university-york  openair  21000.0  \n",
       "4    alcuin-college-university-york  openair  21000.0  \n",
       "..                              ...      ...      ...  \n",
       "199  york-guildhall-council-chamber  openair   1140.0  \n",
       "200  york-guildhall-council-chamber  openair   1140.0  \n",
       "201  york-guildhall-council-chamber  openair   1140.0  \n",
       "202  york-guildhall-council-chamber  openair   1140.0  \n",
       "203  york-guildhall-council-chamber  openair   1140.0  \n",
       "\n",
       "[204 rows x 4 columns]"
      ]
     },
     "execution_count": 76,
     "metadata": {},
     "output_type": "execute_result"
    }
   ],
   "source": [
    "openair_df = pd.DataFrame(openair_tuples, columns=['file', 'room', 'dataset', 'vol'])\n",
    "openair_df"
   ]
  },
  {
   "cell_type": "code",
   "execution_count": 80,
   "id": "3b31125e-89d5-4548-a358-6c37cee4712b",
   "metadata": {},
   "outputs": [
    {
     "data": {
      "text/plain": [
       "<matplotlib.legend.Legend at 0x15045bc5ff70>"
      ]
     },
     "execution_count": 80,
     "metadata": {},
     "output_type": "execute_result"
    },
    {
     "data": {
      "image/png": "[encoded data removed]",
      "text/plain": [
       "<Figure size 432x288 with 1 Axes>"
      ]
     },
     "metadata": {
      "needs_background": "light"
     },
     "output_type": "display_data"
    }
   ],
   "source": [
    "plt.hist([ace_df['vol'], air_df['vol'], openair_df['vol']], stacked=True, label=['ACE','AIR', 'openair'],bins=25)\n",
    "plt.legend()"
   ]
  },
  {
   "cell_type": "code",
   "execution_count": 97,
   "id": "be9d44a5-d0c8-487f-9c80-f6dbc17f208f",
   "metadata": {},
   "outputs": [
    {
     "data": {
      "text/html": [
       "\n",
       "                <audio  controls=\"controls\" >\n",
       "                    <source src=\"data:audio/x-wav;base64,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\" type=\"audio/x-wav\" />\n",
       "                    Your browser does not support the audio element.\n",
       "                </audio>\n",
       "              "
      ],
      "text/plain": [
       "<IPython.lib.display.Audio object>"
      ]
     },
     "execution_count": 97,
     "metadata": {},
     "output_type": "execute_result"
    }
   ],
   "source": [
    "Audio('/scratch/ci411/sonos_rirs/rirs/BUT_ReverbDB/VUT_FIT_D105/MicID01/SpkID02_20170901_S/02/RIR/IR_sweep_15s_45Hzto22kHz_FS16kHz.v00.wav')"
   ]
  },
  {
   "cell_type": "code",
   "execution_count": 140,
   "id": "daaad09b-bdf5-43a1-81a8-6ff4295b6f2b",
   "metadata": {},
   "outputs": [],
   "source": [
    "but_path = os.path.join(RIR_PATH, 'BUT_ReverbDB')\n",
    "but_rooms = next(os.walk(but_path))[1]\n",
    "\n",
    "but_tuples = []\n",
    "for room in but_rooms:\n",
    "    room_dir = os.path.join(but_path, room)\n",
    "    room_df = pd.read_csv(os.path.join(room_dir, 'env_meta.txt'), sep='\\t', header=None)\\\n",
    "                .transpose()\n",
    "    room_df.columns = room_df.iloc[0]\n",
    "    room_volume = float(room_df.iloc[1]['$EnvVolume'])\n",
    "    \n",
    "    speakers = os.listdir(os.path.join(room_dir, 'MicID01'))\n",
    "    for spk in speakers:\n",
    "        speaker_dir = os.path.join(room_dir, 'MicID01', spk)\n",
    "        mic_df = pd.read_csv(os.path.join(speaker_dir, '01', 'mic_meta.txt'),\n",
    "                             sep='\\t', header=None).transpose()\n",
    "        mic_df.columns = mic_df.iloc[0]\n",
    "        mic_rate = float(mic_df.iloc[1]['$EnvMic1RecRate'])\n",
    "        \n",
    "        rir_path = os.path.join(speaker_dir, '01', 'RIR', '*.wav')\n",
    "        rir_file = glob.glob(rir_path)[0]\n",
    "        \n",
    "        but_tuples.append((rir_file, room, 'BUT_ReverbDB', room_volume))\n",
    "\n",
    "but_df = pd.DataFrame(but_tuples, columns=['file', 'room', 'dataset', 'vol'])\n"
   ]
  },
  {
   "cell_type": "code",
   "execution_count": 205,
   "id": "3714a074-effd-4ebf-820d-d80e3147f169",
   "metadata": {},
   "outputs": [
    {
     "name": "stdout",
     "output_type": "stream",
     "text": [
      "43\n",
      "30\n"
     ]
    },
    {
     "data": {
      "text/plain": [
       "<matplotlib.legend.Legend at 0x150449ea4550>"
      ]
     },
     "execution_count": 205,
     "metadata": {},
     "output_type": "execute_result"
    },
    {
     "data": {
      "image/png": "[encoded data removed]",
      "text/plain": [
       "<Figure size 720x432 with 1 Axes>"
      ]
     },
     "metadata": {
      "needs_background": "light"
     },
     "output_type": "display_data"
    }
   ],
   "source": [
    "ace_vols = ace_df.drop_duplicates('room')['vol'].apply(np.log10)\n",
    "air_vols = air_df.drop_duplicates('room')['vol'].apply(np.log10)\n",
    "openair_vols = openair_df.drop_duplicates('room')['vol'].apply(np.log10)\n",
    "but_vols = but_df.drop_duplicates('room')['vol'].apply(np.log10)\n",
    "\n",
    "openair_lowvols = openair_vols[openair_vols<200]\n",
    "\n",
    "add_vols = [1.3, 1.4, 1.76, 1.8, 1.82, 1.84,2.05, 2.1, 2.14, 2.19,2.2, 2.23,\\\n",
    "            2.3, 2.31, 2.39, 2.4, 2.43, 2.5, 2.53, 2.55, 2.6, 2.65, 2.7, 2.72,\\\n",
    "            2.75, 2.8, 2.87, 2.9, 3.1, 3.2]\n",
    "\n",
    "#using this list to generate data\n",
    "\n",
    "\n",
    "print(len(ace_vols) + len(air_vols) + len(openair_vols) + len(but_vols))\n",
    "print(len(add_vols))\n",
    "\n",
    "\n",
    "fig = plt.figure(figsize=(10,6))\n",
    "plt.hist([ace_vols, air_vols, openair_lowvols, but_vols, add_vols], stacked=True,\\\n",
    "         label=['ACE','AIR', 'OpenAIR', 'BUT ReverbDB', 'To-be-simulated'],bins=20)\n",
    "plt.legend()"
   ]
  },
  {
   "cell_type": "code",
   "execution_count": 223,
   "id": "a435bf30-7414-4192-be30-f395fc63b3a9",
   "metadata": {},
   "outputs": [],
   "source": [
    "pra_8df = pd.read_csv(os.path.join(RIR_PATH, 'pra','080322_pra_df.csv'))"
   ]
  },
  {
   "cell_type": "code",
   "execution_count": 224,
   "id": "1caefe60-43ec-486e-9a8a-1ec69730e4be",
   "metadata": {},
   "outputs": [],
   "source": [
    "rir_2_df = pd.concat([ace_df,air_df,openair_df, but_df, pra_8df]).reset_index()"
   ]
  },
  {
   "cell_type": "code",
   "execution_count": 225,
   "id": "92269793-f312-4520-8a71-f35ea9a31b2f",
   "metadata": {},
   "outputs": [
    {
     "data": {
      "text/plain": [
       "<AxesSubplot:>"
      ]
     },
     "execution_count": 225,
     "metadata": {},
     "output_type": "execute_result"
    },
    {
     "data": {
      "image/png": "[encoded data removed]",
      "text/plain": [
       "<Figure size 432x288 with 1 Axes>"
      ]
     },
     "metadata": {
      "needs_background": "light"
     },
     "output_type": "display_data"
    }
   ],
   "source": [
    "rir_2_df.drop_duplicates('room')['vol'].apply(np.log10).hist(bins=20)"
   ]
  },
  {
   "cell_type": "code",
   "execution_count": 226,
   "id": "b693e1c2-96b0-490f-856d-afcb4eaa6391",
   "metadata": {},
   "outputs": [],
   "source": [
    "rir_2_df.to_csv('/home/ci411/volume_estimation/0803_rir_df.csv', index=False)"
   ]
  },
  {
   "cell_type": "code",
   "execution_count": 2,
   "id": "cb9fa0c0-d230-4576-b103-76eebf3fa490",
   "metadata": {},
   "outputs": [
    {
     "name": "stdout",
     "output_type": "stream",
     "text": [
      "19.952623149688797\n",
      "25.118864315095795\n",
      "57.543993733715695\n",
      "63.09573444801933\n",
      "66.06934480075961\n",
      "69.18309709189366\n",
      "112.2018454301963\n",
      "125.89254117941675\n",
      "138.03842646028852\n",
      "154.88166189124811\n",
      "158.48931924611142\n",
      "169.82436524617444\n",
      "199.52623149688787\n",
      "204.17379446695296\n",
      "245.4708915685031\n",
      "251.18864315095797\n",
      "269.1534803926917\n",
      "316.22776601683796\n",
      "338.84415613920237\n",
      "354.8133892335753\n",
      "398.1071705534973\n",
      "446.683592150963\n",
      "501.18723362727246\n",
      "524.8074602497728\n",
      "562.341325190349\n",
      "630.957344480193\n",
      "741.3102413009177\n",
      "794.3282347242813\n",
      "1258.9254117941675\n",
      "1584.893192461114\n",
      "[19.952623149688797, 25.118864315095795, 57.543993733715695, 63.09573444801933, 66.06934480075961, 69.18309709189366, 112.2018454301963, 125.89254117941675, 138.03842646028852, 154.88166189124811, 158.48931924611142, 169.82436524617444, 199.52623149688787, 204.17379446695296, 245.4708915685031, 251.18864315095797, 269.1534803926917, 316.22776601683796, 338.84415613920237, 354.8133892335753, 398.1071705534973, 446.683592150963, 501.18723362727246, 524.8074602497728, 562.341325190349, 630.957344480193, 741.3102413009177, 794.3282347242813, 1258.9254117941675, 1584.893192461114]\n"
     ]
    }
   ],
   "source": [
    "import numpy as np\n",
    "\n",
    "add_vols = [1.3, 1.4, 1.76, 1.8, 1.82, 1.84,2.05, 2.1, 2.14, 2.19,2.2, 2.23,\\\n",
    "            2.3, 2.31, 2.39, 2.4, 2.43, 2.5, 2.53, 2.55, 2.6, 2.65, 2.7, 2.72,\\\n",
    "            2.75, 2.8, 2.87, 2.9, 3.1, 3.2]\n",
    "\n",
    "true_vols = [10**i for i in add_vols]\n",
    "\n",
    "for vol in true_vols:\n",
    "    print(vol)\n",
    "print(true_vols)"
   ]
  },
  {
   "cell_type": "code",
   "execution_count": null,
   "id": "e1bb5d7b-4339-4520-a129-12076af26b67",
   "metadata": {},
   "outputs": [],
   "source": []
  }
 ],
 "metadata": {
  "kernelspec": {
   "display_name": "s3d_kernel",
   "language": "python",
   "name": "s3d_kernel"
  },
  "language_info": {
   "codemirror_mode": {
    "name": "ipython",
    "version": 3
   },
   "file_extension": ".py",
   "mimetype": "text/x-python",
   "name": "python",
   "nbconvert_exporter": "python",
   "pygments_lexer": "ipython3",
   "version": "3.8.13"
  }
 },
 "nbformat": 4,
 "nbformat_minor": 5
}
