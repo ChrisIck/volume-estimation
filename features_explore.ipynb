{
 "cells": [
  {
   "cell_type": "code",
   "execution_count": 3,
   "id": "8595abaa-43d0-4b66-b287-e4935ce64d69",
   "metadata": {},
   "outputs": [],
   "source": [
    "import numpy as np\n",
    "import pandas as pd\n",
    "\n",
    "import os"
   ]
  },
  {
   "cell_type": "code",
   "execution_count": 2,
   "id": "55fbfa74-8423-49e6-9f78-b2bbf00ef5e5",
   "metadata": {},
   "outputs": [],
   "source": [
    "FEATURES_DIR  = '/scratch/ci411/sonos_rirs/features/'"
   ]
  },
  {
   "cell_type": "code",
   "execution_count": 9,
   "id": "f0b8947d-d59c-4c9d-8945-7836a3a07024",
   "metadata": {},
   "outputs": [],
   "source": [
    "feat_10k_set = '080322_10k_baseline'\n",
    "\n",
    "feat_10k_df = pd.read_csv(os.path.join(FEATURES_DIR, feat_10k_set, 'feature_df.csv'))"
   ]
  },
  {
   "cell_type": "code",
   "execution_count": 10,
   "id": "0ad36e9d-069e-4ae3-aec4-b6466987442b",
   "metadata": {},
   "outputs": [
    {
     "data": {
      "text/plain": [
       "Index(['file_speech', 'length (s)', 'file_rir', 'room', 'dataset', 'vol',\n",
       "       'snr', 'clip_label', 'file_clip', 'file_feature', 'split'],\n",
       "      dtype='object')"
      ]
     },
     "execution_count": 10,
     "metadata": {},
     "output_type": "execute_result"
    }
   ],
   "source": [
    "feat_10k_df.columns"
   ]
  },
  {
   "cell_type": "code",
   "execution_count": 11,
   "id": "70fa845c-ac3f-4fd0-b755-ec2ed02116ba",
   "metadata": {},
   "outputs": [
    {
     "data": {
      "text/plain": [
       "<AxesSubplot:>"
      ]
     },
     "execution_count": 11,
     "metadata": {},
     "output_type": "execute_result"
    },
    {
     "data": {
      "image/png": "[encoded data removed]",
      "text/plain": [
       "<Figure size 432x288 with 1 Axes>"
      ]
     },
     "metadata": {
      "needs_background": "light"
     },
     "output_type": "display_data"
    }
   ],
   "source": [
    "feat_10k_df['vol'].hist(bins=20)"
   ]
  },
  {
   "cell_type": "code",
   "execution_count": 12,
   "id": "8b475579-af25-4b88-96ac-e20c86689715",
   "metadata": {},
   "outputs": [
    {
     "data": {
      "text/plain": [
       "<AxesSubplot:>"
      ]
     },
     "execution_count": 12,
     "metadata": {},
     "output_type": "execute_result"
    },
    {
     "data": {
      "image/png": "[encoded data removed]",
      "text/plain": [
       "<Figure size 432x288 with 1 Axes>"
      ]
     },
     "metadata": {
      "needs_background": "light"
     },
     "output_type": "display_data"
    }
   ],
   "source": [
    "feat_10k_df['vol'].apply(np.log10).hist(bins=20)"
   ]
  },
  {
   "cell_type": "code",
   "execution_count": 13,
   "id": "4c7ce83c-dd80-4104-94e2-07e67641e285",
   "metadata": {},
   "outputs": [],
   "source": [
    "feat_5k_set = '072722_5k'\n",
    "\n",
    "feat_5k_df = pd.read_csv(os.path.join(FEATURES_DIR, feat_5k_set, 'feature_df.csv'))\n"
   ]
  },
  {
   "cell_type": "code",
   "execution_count": 15,
   "id": "4218aa86-be69-49a4-a845-7b6c33af87a4",
   "metadata": {},
   "outputs": [
    {
     "data": {
      "text/plain": [
       "<AxesSubplot:>"
      ]
     },
     "execution_count": 15,
     "metadata": {},
     "output_type": "execute_result"
    },
    {
     "data": {
      "image/png": "[encoded data removed]",
      "text/plain": [
       "<Figure size 432x288 with 1 Axes>"
      ]
     },
     "metadata": {
      "needs_background": "light"
     },
     "output_type": "display_data"
    }
   ],
   "source": [
    "feat_5k_df['vol'].hist(bins=20)"
   ]
  },
  {
   "cell_type": "code",
   "execution_count": 16,
   "id": "e66bef25-40f0-49c0-af92-763d349b3d1c",
   "metadata": {},
   "outputs": [
    {
     "data": {
      "text/plain": [
       "<AxesSubplot:>"
      ]
     },
     "execution_count": 16,
     "metadata": {},
     "output_type": "execute_result"
    },
    {
     "data": {
      "image/png": "[encoded data removed]",
      "text/plain": [
       "<Figure size 432x288 with 1 Axes>"
      ]
     },
     "metadata": {
      "needs_background": "light"
     },
     "output_type": "display_data"
    }
   ],
   "source": [
    "feat_5k_df['vol'].apply(np.log10).hist(bins=20)"
   ]
  },
  {
   "cell_type": "code",
   "execution_count": null,
   "id": "45a00881-972b-417e-8f0d-df59de0a95a1",
   "metadata": {},
   "outputs": [],
   "source": []
  }
 ],
 "metadata": {
  "kernelspec": {
   "display_name": "s3d_kernel",
   "language": "python",
   "name": "s3d_kernel"
  },
  "language_info": {
   "codemirror_mode": {
    "name": "ipython",
    "version": 3
   },
   "file_extension": ".py",
   "mimetype": "text/x-python",
   "name": "python",
   "nbconvert_exporter": "python",
   "pygments_lexer": "ipython3",
   "version": "3.8.13"
  }
 },
 "nbformat": 4,
 "nbformat_minor": 5
}
